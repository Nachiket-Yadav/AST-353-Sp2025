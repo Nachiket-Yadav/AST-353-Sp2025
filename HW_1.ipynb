{
 "cells": [
  {
   "cell_type": "code",
   "execution_count": 1,
   "metadata": {},
   "outputs": [],
   "source": [
    "import numpy as np"
   ]
  },
  {
   "cell_type": "code",
   "execution_count": 36,
   "metadata": {},
   "outputs": [],
   "source": [
    "# Defining constants\n",
    "\n",
    "R_sun = 6.957 * 10**8 # m \n",
    "M_sun = 2 * 10**30 # kg\n",
    "\n",
    "R = 3 * R_sun\n",
    "R_c = R/10\n",
    "p_c = 50000 # kg * m^-3"
   ]
  },
  {
   "cell_type": "code",
   "execution_count": 37,
   "metadata": {},
   "outputs": [],
   "source": [
    "def density_profile(r,p_c=p_c,R_c=R_c):\n",
    "    p = p_c * 1/(1+(r/R_c)**2)\n",
    "    return p\n",
    "\n",
    "def integrand(r):\n",
    "    y = 4 * np.pi * density_profile(r) * r**2\n",
    "    return y"
   ]
  },
  {
   "cell_type": "code",
   "execution_count": 38,
   "metadata": {},
   "outputs": [
    {
     "name": "stdout",
     "output_type": "stream",
     "text": [
      "Mass in kgs: 4.871932424130025e+31 kg | Mass in M_sun: 24.359662120650125\n"
     ]
    }
   ],
   "source": [
    "x = np.linspace(0,R,100000) # Sampling 100,000 points between radii 0 and R\n",
    "y = integrand(x)\n",
    "\n",
    "M = np.trapz(y,x) # mass in kg\n",
    "M_converted = M/M_sun\n",
    "\n",
    "print(f\"Mass in kgs: {M} kg | Mass in M_sun: {M_converted}\")"
   ]
  }
 ],
 "metadata": {
  "kernelspec": {
   "display_name": "base",
   "language": "python",
   "name": "python3"
  },
  "language_info": {
   "codemirror_mode": {
    "name": "ipython",
    "version": 3
   },
   "file_extension": ".py",
   "mimetype": "text/x-python",
   "name": "python",
   "nbconvert_exporter": "python",
   "pygments_lexer": "ipython3",
   "version": "3.11.5"
  }
 },
 "nbformat": 4,
 "nbformat_minor": 2
}
